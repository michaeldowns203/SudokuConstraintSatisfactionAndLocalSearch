{
 "cells": [
  {
   "cell_type": "code",
   "execution_count": 16,
   "id": "fd18ae98-08e5-4413-93e0-4dc6be24eb7c",
   "metadata": {
    "collapsed": true,
    "jupyter": {
     "outputs_hidden": true
    },
    "scrolled": true
   },
   "outputs": [
    {
     "name": "stdout",
     "output_type": "stream",
     "text": [
      "bt\n",
      "Empty DataFrame\n",
      "Columns: [algorithm, difficulty, puzzle, assignments, backtracks, inferences, decisions, restarts, generations]\n",
      "Index: []\n",
      "fc\n",
      "Empty DataFrame\n",
      "Columns: [algorithm, difficulty, puzzle, assignments, backtracks, inferences, decisions, restarts, generations]\n",
      "Index: []\n",
      "ac3\n",
      "algorithm difficulty  puzzle  assignments  backtracks  inferences  decisions  restarts  generations\n",
      "      ac3       easy Easy-P1           48           0         376          0         0            0\n",
      "      ac3       easy Easy-P2           48           3         786          0         0            0\n",
      "      ac3       easy Easy-P3           47           0         368          0         0            0\n",
      "      ac3       easy Easy-P4           46           1         671          0         0            0\n",
      "      ac3     medium  Med-P1           55           4         465          0         0            0\n",
      "      ac3     medium  Med-P2           53           3         755          0         0            0\n",
      "      ac3     medium  Med-P3           53           0         416          0         0            0\n",
      "      ac3     medium  Med-P4           52           0         408          0         0            0\n",
      "      ac3       hard Hard-P1           68          15         867          0         0            0\n",
      "      ac3       hard Hard-P2          107          54        2334          0         0            0\n",
      "      ac3       hard Hard-P3           57           4         935          0         0            0\n",
      "      ac3       hard Hard-P4           64          11         686          0         0            0\n",
      "      ac3    extreme Evil-P1           73          18        1551          0         0            0\n",
      "      ac3    extreme Evil-P2           58           2         476          0         0            0\n",
      "      ac3    extreme Evil-P3           57           2         497          0         0            0\n",
      "      ac3    extreme Evil-P4           45           0         352          0         0            0\n",
      "sa\n",
      "algorithm difficulty  puzzle  assignments  backtracks  inferences  decisions  restarts  generations\n",
      "       sa       easy Easy-P1            0           0           0       6699      6699            0\n",
      "       sa       easy Easy-P2            0           0           0       2730      2730            0\n",
      "       sa       easy Easy-P3            0           0           0      12224     12224            0\n",
      "       sa       easy Easy-P4            0           0           0      11015     11015            0\n",
      "       sa     medium  Med-P1            0           0           0       3670      3670            0\n",
      "       sa     medium  Med-P2            0           0           0      11673     11673            0\n",
      "       sa     medium  Med-P3            0           0           0      10477     10477            0\n",
      "ga\n",
      "Empty DataFrame\n",
      "Columns: [algorithm, difficulty, puzzle, assignments, backtracks, inferences, decisions, restarts, generations]\n",
      "Index: []\n"
     ]
    },
    {
     "name": "stderr",
     "output_type": "stream",
     "text": [
      "/var/folders/6c/xg67w5f96v93qgp94xcv97_80000gn/T/ipykernel_61454/2815041991.py:44: FutureWarning: The default of observed=False is deprecated and will be changed to True in a future version of pandas. Pass observed=False to retain current behavior or observed=True to adopt the future default and silence this warning.\n",
      "  for algo, group in df.groupby(\"algorithm\"):\n"
     ]
    }
   ],
   "source": [
    "##SHOULD WORK FULLY WHEN WE CAN PULL ALL METRICS** \n",
    "\n",
    "import pandas as pd\n",
    "from pathlib import Path\n",
    "\n",
    "def collect_metrics(metrics_dir=\".\", output_csv=\"metrics_summary.csv\"):\n",
    "    metrics_path = Path(metrics_dir)\n",
    "    records = []\n",
    "\n",
    "    for file_path in metrics_path.glob(\"*.txt\"):\n",
    "        parts = file_path.stem.split(\"_\")\n",
    "        if len(parts) < 5:\n",
    "            continue\n",
    "\n",
    "        algorithm = parts[1]\n",
    "        difficulty = parts[2]\n",
    "        puzzle = parts[3]\n",
    "\n",
    "        metrics = {}\n",
    "        with open(file_path) as f:\n",
    "            for line in f:\n",
    "                if \":\" in line:\n",
    "                    k, v = line.strip().split(\":\")\n",
    "                    metrics[k.strip()] = int(v.strip())\n",
    "\n",
    "        record = {\n",
    "            \"algorithm\": algorithm,\n",
    "            \"difficulty\": difficulty,\n",
    "            \"puzzle\": puzzle,\n",
    "            **metrics\n",
    "        }\n",
    "        records.append(record)\n",
    "\n",
    "    df = pd.DataFrame(records)\n",
    "\n",
    "    if not df.empty:\n",
    "        difficulty_order = [\"easy\", \"medium\", \"hard\", \"extreme\"]\n",
    "        df[\"difficulty\"] = pd.Categorical(df[\"difficulty\"], categories=difficulty_order, ordered=True)\n",
    "\n",
    "        algorithm_order = [\"bt\", \"fc\", \"ac3\", \"sa\", \"ga\"]\n",
    "        df[\"algorithm\"] = pd.Categorical(df[\"algorithm\"], categories=algorithm_order, ordered=True)\n",
    "\n",
    "        df = df.sort_values(by=[\"algorithm\", \"difficulty\", \"puzzle\"])\n",
    "        df.to_csv(output_csv, index=False)\n",
    "\n",
    "        for algo, group in df.groupby(\"algorithm\"):\n",
    "            print(algo)\n",
    "            print(group.to_string(index=False))\n",
    "\n",
    "    return df\n",
    "\n",
    "if __name__ == \"__main__\":\n",
    "    df = collect_metrics(\".\", \"metrics_summary.csv\")\n"
   ]
  },
  {
   "cell_type": "code",
   "execution_count": null,
   "id": "3b947b37-6dc2-408d-b9d0-f11ba5e03d4a",
   "metadata": {},
   "outputs": [],
   "source": []
  },
  {
   "cell_type": "code",
   "execution_count": null,
   "id": "c3522b9d-e678-45cd-b061-9fac71638bb5",
   "metadata": {},
   "outputs": [],
   "source": []
  }
 ],
 "metadata": {
  "kernelspec": {
   "display_name": "Python 3 (ipykernel)",
   "language": "python",
   "name": "python3"
  },
  "language_info": {
   "codemirror_mode": {
    "name": "ipython",
    "version": 3
   },
   "file_extension": ".py",
   "mimetype": "text/x-python",
   "name": "python",
   "nbconvert_exporter": "python",
   "pygments_lexer": "ipython3",
   "version": "3.13.0"
  }
 },
 "nbformat": 4,
 "nbformat_minor": 5
}
