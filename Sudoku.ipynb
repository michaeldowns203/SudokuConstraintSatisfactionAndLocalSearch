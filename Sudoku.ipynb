{

 "cells": [

  {

   "cell_type": "code",

   "id": "initial_id",

   "metadata": {

    "collapsed": true

   },

   "source": [

    "# Parameters\n",

    "GROUP_ID = '43'\n",


    "ALGORITHM = 'ga' # bt | fc | ac3 | sa | ga\n",


    "ALGORITHM = 'ac3' # bt | fc | ac3 | sa | ga\n",

    "PUZZLE_TYPE = 'extreme' # easy | medium | hard | extreme\n",


    "PUZZLE_PATH = 'puzzles/extreme/Evil-P4.txt'"


    "PUZZLE_PATH = f\"puzzles/{PUZZLE_TYPE}/Evil-P2.txt\""

   ],

   "outputs": [],

   "execution_count": null

  },

  {

   "metadata": {},

   "cell_type": "code",

   "source": [

    "from src.io import read_puzzle, write_puzzle, build_output_filename\n",

    "from src.solve import solve\n",

    "import hashlib\n",

    "\n",

    "# Deterministic seed from parameters\n",

    "_seed = int(hashlib.md5(f\"{GROUP_ID}:{ALGORITHM}:{PUZZLE_PATH}\".encode()).hexdigest()[:8], 16)"

   ],

   "id": "ec2305eddd05134",

   "outputs": [],

   "execution_count": null

  },

  {

   "metadata": {},

   "cell_type": "code",

   "source": [

    "grid = read_puzzle(PUZZLE_PATH)\n",

    "solved, metrics = solve(grid, ALGORITHM, seed=_seed)\n",

    "\n",

    "outfile = build_output_filename(GROUP_ID, ALGORITHM, PUZZLE_TYPE, PUZZLE_PATH)\n",

    "if solved is None:\n",

    "    raise RuntimeError(f\"No solution found for {PUZZLE_PATH} using {ALGORITHM}. Metrics: {metrics}\")\n",

    "\n",

    "write_puzzle(solved, outfile)\n",

    "print(\"Saved:\", outfile)\n",

    "print(\"Metrics:\", metrics)"

   ],

   "id": "6cc3f883c5710aca",

   "outputs": [],

   "execution_count": null

  },

  {

   "metadata": {},

   "cell_type": "code",

   "source": "",

   "id": "5abb8c751cc26754",

   "outputs": [],

   "execution_count": null

  }

 ],

 "metadata": {

  "kernelspec": {

   "display_name": "Python 3",

   "language": "python",

   "name": "python3"

  },

  "language_info": {

   "codemirror_mode": {

    "name": "ipython",

    "version": 2

   },

   "file_extension": ".py",

   "mimetype": "text/x-python",

   "name": "python",

   "nbconvert_exporter": "python",

   "pygments_lexer": "ipython2",

   "version": "2.7.6"

  }

 },

 "nbformat": 4,

 "nbformat_minor": 5

}
