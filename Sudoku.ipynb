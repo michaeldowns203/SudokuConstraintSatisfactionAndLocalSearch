{
 "cells": [
  {
   "cell_type": "code",
   "execution_count": 193,
   "id": "initial_id",
   "metadata": {},
   "outputs": [],
   "source": [
    "# Parameters\n",
    "GROUP_ID = '43'\n",
    "ALGORITHM = 'fc' # bt | fc | ac3 | sa | ga\n",
    "PUZZLE_TYPE = 'easy' # easy | medium | hard | extreme\n",
    "PUZZLE_PATH = f\"puzzles/{PUZZLE_TYPE}/Easy-P1.txt\""
   ]
  },
  {
   "cell_type": "code",
   "execution_count": 194,
   "id": "ec2305eddd05134",
   "metadata": {},
   "outputs": [],
   "source": [
    "from src.io import read_puzzle, write_puzzle, build_output_filename\n",
    "from src.solve import solve\n",
    "import hashlib\n",
    "\n",
    "# Deterministic seed from parameters\n",
    "_seed = int(hashlib.md5(f\"{GROUP_ID}:{ALGORITHM}:{PUZZLE_PATH}\".encode()).hexdigest()[:8], 16)"
   ]
  },
  {
   "cell_type": "raw",
   "id": "1ea05ead-e029-41d1-809c-cb9f6d003a29",
   "metadata": {
    "collapsed": true,
    "jupyter": {
     "outputs_hidden": true
    },
    "scrolled": true
   },
   "source": [
    "grid = read_puzzle(PUZZLE_PATH)\n",
    "solved, metrics = solve(grid, ALGORITHM, seed=_seed)\n",
    "\n",
    "outfile = build_output_filename(GROUP_ID, ALGORITHM, PUZZLE_TYPE, PUZZLE_PATH)\n",
    "if solved is None:\n",
    "    raise RuntimeError(f\"No solution found for {PUZZLE_PATH} using {ALGORITHM}. Metrics: {metrics}\")\n",
    "\n",
    "write_puzzle(solved, outfile)\n",
    "print(\"Saved:\", outfile)\n",
    "print(\"Metrics:\", metrics)\n",
    "\n",
    "import os\n",
    "metfile = os.path.join(\"metrics\", os.path.basename(outfile).replace(\".txt\", \"_metrics.txt\"))\n",
    "with open(metfile, \"w\") as f:\n",
    "\n",
    "    f.write(f\"assignments: {metrics.assignments}\\n\")\n",
    "    f.write(f\"backtracks: {metrics.backtracks}\\n\")\n",
    "    f.write(f\"inferences: {metrics.inferences}\\n\")\n",
    "    f.write(f\"decisions: {metrics.decisions}\\n\")\n",
    "    f.write(f\"restarts: {metrics.restarts}\\n\")\n",
    "    f.write(f\"generations: {metrics.generations}\\n\")\n"
   ]
  },
  {
   "cell_type": "code",
   "execution_count": null,
   "id": "5abb8c751cc26754",
   "metadata": {},
   "outputs": [],
   "source": []
  },
  {
   "cell_type": "code",
   "execution_count": null,
   "id": "976460a1-71a7-45da-95c4-3dbb9226c94c",
   "metadata": {},
   "outputs": [],
   "source": []
  }
 ],
 "metadata": {
  "kernelspec": {
   "display_name": "Python 3 (ipykernel)",
   "language": "python",
   "name": "python3"
  },
  "language_info": {
   "codemirror_mode": {
    "name": "ipython",
    "version": 3
   },
   "file_extension": ".py",
   "mimetype": "text/x-python",
   "name": "python",
   "nbconvert_exporter": "python",
   "pygments_lexer": "ipython3",
   "version": "3.13.0"
  }
 },
 "nbformat": 4,
 "nbformat_minor": 5
}
