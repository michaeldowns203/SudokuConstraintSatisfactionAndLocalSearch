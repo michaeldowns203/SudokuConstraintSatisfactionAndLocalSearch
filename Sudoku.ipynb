{
 "cells": [
  {
   "cell_type": "code",
   "id": "initial_id",
   "metadata": {
    "collapsed": true,
    "ExecuteTime": {
     "end_time": "2025-08-23T02:39:47.327953Z",
     "start_time": "2025-08-23T02:39:47.320807Z"
    }
   },
   "source": [
    "# Parameters\n",
    "GROUP_ID = 'YourGroupHere'\n",
    "ALGORITHM = 'bt' # bt | fc | ac3 | sa | ga\n",
    "PUZZLE_TYPE = 'easy' # easy | medium | hard | extreme\n",
    "PUZZLE_PATH = 'puzzles/easy/puzzle01.txt'"
   ],
   "outputs": [],
   "execution_count": 5
  },
  {
   "metadata": {
    "ExecuteTime": {
     "end_time": "2025-08-23T02:39:47.344600Z",
     "start_time": "2025-08-23T02:39:47.340185Z"
    }
   },
   "cell_type": "code",
   "source": [
    "from src.io import read_puzzle, write_puzzle, build_output_filename\n",
    "from src.solve import solve\n",
    "\n",
    "# Optional: deterministic seed from parameters\n",
    "import hashlib\n",
    "_seed = int(hashlib.md5(f\"{GROUP_ID}:{ALGORITHM}:{PUZZLE_PATH}\".encode()).hexdigest()[:8], 16)"
   ],
   "id": "ec2305eddd05134",
   "outputs": [],
   "execution_count": 6
  },
  {
   "metadata": {
    "ExecuteTime": {
     "end_time": "2025-08-23T02:39:47.504003Z",
     "start_time": "2025-08-23T02:39:47.356322Z"
    }
   },
   "cell_type": "code",
   "source": [
    "grid = read_puzzle(PUZZLE_PATH)\n",
    "solved, metrics = solve(grid, ALGORITHM, seed=_seed)\n",
    "\n",
    "outfile = build_output_filename(GROUP_ID, ALGORITHM, PUZZLE_TYPE, PUZZLE_PATH)\n",
    "if solved is None:\n",
    "    raise RuntimeError(f\"No solution found for {PUZZLE_PATH} using {ALGORITHM}. Metrics: {metrics}\")\n",
    "\n",
    "write_puzzle(solved, outfile)\n",
    "print(\"Saved:\", outfile)\n",
    "print(\"Metrics:\", metrics)"
   ],
   "id": "6cc3f883c5710aca",
   "outputs": [
    {
     "ename": "AssertionError",
     "evalue": "Puzzle path not found: puzzles/easy/puzzle01.txt",
     "output_type": "error",
     "traceback": [
      "\u001B[31m---------------------------------------------------------------------------\u001B[39m",
      "\u001B[31mAssertionError\u001B[39m                            Traceback (most recent call last)",
      "\u001B[36mCell\u001B[39m\u001B[36m \u001B[39m\u001B[32mIn[7]\u001B[39m\u001B[32m, line 1\u001B[39m\n\u001B[32m----> \u001B[39m\u001B[32m1\u001B[39m grid = \u001B[43mread_puzzle\u001B[49m\u001B[43m(\u001B[49m\u001B[43mPUZZLE_PATH\u001B[49m\u001B[43m)\u001B[49m\n\u001B[32m      2\u001B[39m solved, metrics = solve(grid, ALGORITHM, seed=_seed)\n\u001B[32m      4\u001B[39m outfile = build_output_filename(GROUP_ID, ALGORITHM, PUZZLE_TYPE, PUZZLE_PATH)\n",
      "\u001B[36mFile \u001B[39m\u001B[32m~/PycharmProjects/AiSudokuSolver/src/io.py:14\u001B[39m, in \u001B[36mread_puzzle\u001B[39m\u001B[34m(path)\u001B[39m\n\u001B[32m     10\u001B[39m \u001B[38;5;250m\u001B[39m\u001B[33;03m\"\"\"Read a 9x9 Sudoku puzzle; '?' => 0. Validates basic shape.\u001B[39;00m\n\u001B[32m     11\u001B[39m \u001B[33;03mInput format: 9 lines, 9 space-separated tokens per line.\u001B[39;00m\n\u001B[32m     12\u001B[39m \u001B[33;03m\"\"\"\u001B[39;00m\n\u001B[32m     13\u001B[39m p = Path(path)\n\u001B[32m---> \u001B[39m\u001B[32m14\u001B[39m \u001B[38;5;28;01massert\u001B[39;00m p.exists(), \u001B[33mf\u001B[39m\u001B[33m\"\u001B[39m\u001B[33mPuzzle path not found: \u001B[39m\u001B[38;5;132;01m{\u001B[39;00mp\u001B[38;5;132;01m}\u001B[39;00m\u001B[33m\"\u001B[39m\n\u001B[32m     15\u001B[39m rows: List[List[\u001B[38;5;28mint\u001B[39m]] = []\n\u001B[32m     16\u001B[39m \u001B[38;5;28;01mfor\u001B[39;00m line \u001B[38;5;129;01min\u001B[39;00m p.read_text().strip().splitlines():\n",
      "\u001B[31mAssertionError\u001B[39m: Puzzle path not found: puzzles/easy/puzzle01.txt"
     ]
    }
   ],
   "execution_count": 7
  },
  {
   "metadata": {},
   "cell_type": "code",
   "outputs": [],
   "execution_count": null,
   "source": "",
   "id": "5abb8c751cc26754"
  }
 ],
 "metadata": {
  "kernelspec": {
   "display_name": "Python 3",
   "language": "python",
   "name": "python3"
  },
  "language_info": {
   "codemirror_mode": {
    "name": "ipython",
    "version": 2
   },
   "file_extension": ".py",
   "mimetype": "text/x-python",
   "name": "python",
   "nbconvert_exporter": "python",
   "pygments_lexer": "ipython2",
   "version": "2.7.6"
  }
 },
 "nbformat": 4,
 "nbformat_minor": 5
}
