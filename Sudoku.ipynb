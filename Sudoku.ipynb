{
 "cells": [
  {
   "cell_type": "code",
   "id": "initial_id",
   "metadata": {
    "collapsed": true,
    "ExecuteTime": {
     "end_time": "2025-08-23T03:19:45.554947Z",
     "start_time": "2025-08-23T03:19:45.547738Z"
    }
   },
   "source": [
    "# Parameters\n",
    "GROUP_ID = 'YourGroupHere'\n",
    "ALGORITHM = 'bt' # bt | fc | ac3 | sa | ga\n",
    "PUZZLE_TYPE = 'easy' # easy | medium | hard | extreme\n",
    "PUZZLE_PATH = 'puzzles/easy/Easy-P1.txt'"
   ],
   "outputs": [],
   "execution_count": 1
  },
  {
   "metadata": {
    "ExecuteTime": {
     "end_time": "2025-08-23T03:19:46.704910Z",
     "start_time": "2025-08-23T03:19:46.690754Z"
    }
   },
   "cell_type": "code",
   "source": [
    "from src.io import read_puzzle, write_puzzle, build_output_filename\n",
    "from src.solve import solve\n",
    "\n",
    "# Optional: deterministic seed from parameters\n",
    "import hashlib\n",
    "_seed = int(hashlib.md5(f\"{GROUP_ID}:{ALGORITHM}:{PUZZLE_PATH}\".encode()).hexdigest()[:8], 16)"
   ],
   "id": "ec2305eddd05134",
   "outputs": [],
   "execution_count": 2
  },
  {
   "metadata": {
    "ExecuteTime": {
     "end_time": "2025-08-23T03:19:48.510657Z",
     "start_time": "2025-08-23T03:19:48.401516Z"
    }
   },
   "cell_type": "code",
   "source": [
    "grid = read_puzzle(PUZZLE_PATH)\n",
    "solved, metrics = solve(grid, ALGORITHM, seed=_seed)\n",
    "\n",
    "outfile = build_output_filename(GROUP_ID, ALGORITHM, PUZZLE_TYPE, PUZZLE_PATH)\n",
    "if solved is None:\n",
    "    raise RuntimeError(f\"No solution found for {PUZZLE_PATH} using {ALGORITHM}. Metrics: {metrics}\")\n",
    "\n",
    "write_puzzle(solved, outfile)\n",
    "print(\"Saved:\", outfile)\n",
    "print(\"Metrics:\", metrics)"
   ],
   "id": "6cc3f883c5710aca",
   "outputs": [
    {
     "ename": "RuntimeError",
     "evalue": "No solution found for puzzles/easy/Easy-P1.txt using bt. Metrics: Metrics(assignments=0, backtracks=0, inferences=0, decisions=0, restarts=0, generations=0, trace=[])",
     "output_type": "error",
     "traceback": [
      "\u001B[31m---------------------------------------------------------------------------\u001B[39m",
      "\u001B[31mRuntimeError\u001B[39m                              Traceback (most recent call last)",
      "\u001B[36mCell\u001B[39m\u001B[36m \u001B[39m\u001B[32mIn[3]\u001B[39m\u001B[32m, line 6\u001B[39m\n\u001B[32m      4\u001B[39m outfile = build_output_filename(GROUP_ID, ALGORITHM, PUZZLE_TYPE, PUZZLE_PATH)\n\u001B[32m      5\u001B[39m \u001B[38;5;28;01mif\u001B[39;00m solved \u001B[38;5;129;01mis\u001B[39;00m \u001B[38;5;28;01mNone\u001B[39;00m:\n\u001B[32m----> \u001B[39m\u001B[32m6\u001B[39m     \u001B[38;5;28;01mraise\u001B[39;00m \u001B[38;5;167;01mRuntimeError\u001B[39;00m(\u001B[33mf\u001B[39m\u001B[33m\"\u001B[39m\u001B[33mNo solution found for \u001B[39m\u001B[38;5;132;01m{\u001B[39;00mPUZZLE_PATH\u001B[38;5;132;01m}\u001B[39;00m\u001B[33m using \u001B[39m\u001B[38;5;132;01m{\u001B[39;00mALGORITHM\u001B[38;5;132;01m}\u001B[39;00m\u001B[33m. Metrics: \u001B[39m\u001B[38;5;132;01m{\u001B[39;00mmetrics\u001B[38;5;132;01m}\u001B[39;00m\u001B[33m\"\u001B[39m)\n\u001B[32m      8\u001B[39m write_puzzle(solved, outfile)\n\u001B[32m      9\u001B[39m \u001B[38;5;28mprint\u001B[39m(\u001B[33m\"\u001B[39m\u001B[33mSaved:\u001B[39m\u001B[33m\"\u001B[39m, outfile)\n",
      "\u001B[31mRuntimeError\u001B[39m: No solution found for puzzles/easy/Easy-P1.txt using bt. Metrics: Metrics(assignments=0, backtracks=0, inferences=0, decisions=0, restarts=0, generations=0, trace=[])"
     ]
    }
   ],
   "execution_count": 3
  },
  {
   "metadata": {},
   "cell_type": "code",
   "outputs": [],
   "execution_count": null,
   "source": "",
   "id": "5abb8c751cc26754"
  }
 ],
 "metadata": {
  "kernelspec": {
   "display_name": "Python 3",
   "language": "python",
   "name": "python3"
  },
  "language_info": {
   "codemirror_mode": {
    "name": "ipython",
    "version": 2
   },
   "file_extension": ".py",
   "mimetype": "text/x-python",
   "name": "python",
   "nbconvert_exporter": "python",
   "pygments_lexer": "ipython2",
   "version": "2.7.6"
  }
 },
 "nbformat": 4,
 "nbformat_minor": 5
}
