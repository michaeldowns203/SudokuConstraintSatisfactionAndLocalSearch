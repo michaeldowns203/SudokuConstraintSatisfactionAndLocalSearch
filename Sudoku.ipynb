{
 "cells": [
  {
   "cell_type": "code",
   "id": "initial_id",
   "metadata": {
    "collapsed": true,
    "ExecuteTime": {
     "end_time": "2025-08-30T02:21:45.536491Z",
     "start_time": "2025-08-30T02:21:45.526342Z"
    }
   },
   "source": [
    "# Parameters\n",
    "GROUP_ID = '43'\n",
    "ALGORITHM = 'bt' # bt | fc | ac3 | sa | ga\n",
    "PUZZLE_TYPE = 'easy' # easy | medium | hard | extreme\n",
    "PUZZLE_PATH = 'puzzles/easy/Easy-P1.txt'"
   ],
   "outputs": [],
   "execution_count": 10
  },
  {
   "metadata": {
    "ExecuteTime": {
     "end_time": "2025-08-30T02:21:45.552241Z",
     "start_time": "2025-08-30T02:21:45.549568Z"
    }
   },
   "cell_type": "code",
   "source": [
    "from src.io import read_puzzle, write_puzzle, build_output_filename\n",
    "from src.solve import solve\n",
    "import hashlib\n",
    "\n",
    "# Deterministic seed from parameters\n",
    "_seed = int(hashlib.md5(f\"{GROUP_ID}:{ALGORITHM}:{PUZZLE_PATH}\".encode()).hexdigest()[:8], 16)"
   ],
   "id": "ec2305eddd05134",
   "outputs": [],
   "execution_count": 11
  },
  {
   "metadata": {
    "ExecuteTime": {
     "end_time": "2025-08-30T02:21:45.573253Z",
     "start_time": "2025-08-30T02:21:45.563328Z"
    }
   },
   "cell_type": "code",
   "source": [
    "grid = read_puzzle(PUZZLE_PATH)\n",
    "solved, metrics = solve(grid, ALGORITHM, seed=_seed)\n",
    "\n",
    "outfile = build_output_filename(GROUP_ID, ALGORITHM, PUZZLE_TYPE, PUZZLE_PATH)\n",
    "if solved is None:\n",
    "    raise RuntimeError(f\"No solution found for {PUZZLE_PATH} using {ALGORITHM}. Metrics: {metrics}\")\n",
    "\n",
    "write_puzzle(solved, outfile)\n",
    "print(\"Saved:\", outfile)\n",
    "print(\"Metrics:\", metrics)"
   ],
   "id": "6cc3f883c5710aca",
   "outputs": [
    {
     "name": "stdout",
     "output_type": "stream",
     "text": [
      "Saved: GroupId_bt_easy_Easy-P1.txt\n",
      "Metrics: assignments=150, backtracks=102, inferences=0, decisions=0, restarts=0, generations=0\n"
     ]
    }
   ],
   "execution_count": 12
  },
  {
   "metadata": {
    "ExecuteTime": {
     "end_time": "2025-08-30T02:21:45.586910Z",
     "start_time": "2025-08-30T02:21:45.585610Z"
    }
   },
   "cell_type": "code",
   "source": "",
   "id": "5abb8c751cc26754",
   "outputs": [],
   "execution_count": null
  }
 ],
 "metadata": {
  "kernelspec": {
   "display_name": "Python 3",
   "language": "python",
   "name": "python3"
  },
  "language_info": {
   "codemirror_mode": {
    "name": "ipython",
    "version": 2
   },
   "file_extension": ".py",
   "mimetype": "text/x-python",
   "name": "python",
   "nbconvert_exporter": "python",
   "pygments_lexer": "ipython2",
   "version": "2.7.6"
  }
 },
 "nbformat": 4,
 "nbformat_minor": 5
}
