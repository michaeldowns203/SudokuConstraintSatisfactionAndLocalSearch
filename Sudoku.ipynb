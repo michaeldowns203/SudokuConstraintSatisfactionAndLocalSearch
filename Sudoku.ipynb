{
 "cells": [
  {
   "cell_type": "code",
   "id": "initial_id",
   "metadata": {},
   "source": [
    "# Parameters\n",
    "GROUP_ID = '43'\n",
    "ALGORITHM = 'bt' # bt | fc | ac3 | sa | ga\n",
    "PUZZLE_TYPE = 'easy' # easy | medium | hard | extreme\n",
    "PUZZLE_PATH = f\"puzzles/{PUZZLE_TYPE}/Easy-P1.txt\""
   ],
   "outputs": [],
   "execution_count": null
  },
  {
   "cell_type": "code",
   "id": "ec2305eddd05134",
   "metadata": {},
   "source": [
    "from src.io import read_puzzle, write_puzzle, build_output_filename\n",
    "from src.solve import solve\n",
    "import os\n",
    "import hashlib\n",
    "import matplotlib.pyplot as plt\n",
    "\n",
    "# Deterministic seed from parameters\n",
    "_seed = int(hashlib.md5(f\"{GROUP_ID}:{ALGORITHM}:{PUZZLE_PATH}\".encode()).hexdigest()[:8], 16)"
   ],
   "outputs": [],
   "execution_count": null
  },
  {
   "cell_type": "code",
   "id": "5163acab030f9015",
   "metadata": {},
   "source": [
    "grid = read_puzzle(PUZZLE_PATH)\n",
    "solved, metrics = solve(grid, ALGORITHM, seed=_seed)\n",
    "\n",
    "outfile = build_output_filename(GROUP_ID, ALGORITHM, PUZZLE_TYPE, PUZZLE_PATH)\n",
    "\n",
    "if solved is not None:\n",
    "    write_puzzle(solved, outfile)\n",
    "    print(\"Saved:\", outfile)\n",
    "else:\n",
    "    print(f\"No solution found for {PUZZLE_PATH} using {ALGORITHM}.\")\n",
    "\n",
    "print(\"Metrics:\", metrics)\n",
    "\n",
    "# metfile = os.path.join(\"metrics\", os.path.basename(outfile).replace(\".txt\", \"_metrics.txt\"))\n",
    "# with open(metfile, \"w\") as f:\n",
    "#     f.write(f\"assignments: {metrics.assignments}\\n\")\n",
    "#     f.write(f\"backtracks: {metrics.backtracks}\\n\")\n",
    "#     f.write(f\"inferences: {metrics.inferences}\\n\")\n",
    "#     f.write(f\"decisions: {metrics.decisions}\\n\")\n",
    "#     f.write(f\"restarts: {metrics.restarts}\\n\")\n",
    "#     f.write(f\"generations: {metrics.generations}\\n\")\n",
    "#     f.write(f\"success: {solved is not None}\\n\")\n",
    "#\n",
    "# puzzle_name = os.path.basename(PUZZLE_PATH).replace(\".txt\", \"\")\n",
    "#\n",
    "# if ALGORITHM == \"sa\" and metrics.sa_fitness_curve:\n",
    "#     plt.plot(metrics.sa_fitness_curve)\n",
    "#     plt.xlabel(\"Step\")\n",
    "#     plt.ylabel(\"Fitness\")\n",
    "#     plt.title(f\"SA Learning Curve for puzzle {puzzle_name}\")\n",
    "#     curvefile = os.path.join(\"metrics\", f\"sa_{puzzle_name}_curve.png\")\n",
    "#     plt.savefig(curvefile)\n",
    "#     plt.show()\n",
    "#\n",
    "# elif ALGORITHM == \"ga\" and metrics.ga_fitness_curve:\n",
    "#     plt.plot(metrics.ga_fitness_curve)\n",
    "#     plt.xlabel(\"Generation\")\n",
    "#     plt.ylabel(\"Best Fitness\")\n",
    "#     plt.title(f\"GA Learning Curve for puzzle {puzzle_name}\")\n",
    "#     curvefile = os.path.join(\"metrics\", f\"ga_{puzzle_name}_curve.png\")\n",
    "#     plt.savefig(curvefile)\n",
    "#     plt.show()"
   ],
   "outputs": [],
   "execution_count": null
  }
 ],
 "metadata": {
  "kernelspec": {
   "display_name": "Python 3 (ipykernel)",
   "language": "python",
   "name": "python3"
  },
  "language_info": {
   "codemirror_mode": {
    "name": "ipython",
    "version": 3
   },
   "file_extension": ".py",
   "mimetype": "text/x-python",
   "name": "python",
   "nbconvert_exporter": "python",
   "pygments_lexer": "ipython3",
   "version": "3.13.0"
  }
 },
 "nbformat": 4,
 "nbformat_minor": 5
}
